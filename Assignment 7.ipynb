{
 "cells": [
  {
   "cell_type": "markdown",
   "id": "82d90998",
   "metadata": {},
   "source": [
    "Use SciPy Optimization to solve:\n",
    "\n",
    "Someone wants to build a cardboard box and maximize the volume by adjusting the length (L), width (W), and height (H) of the box and the same time the surface area of the box (area of 6 sides) stays no more than 10.\n",
    "\n",
    "Print optimal L, W, H, Volume and surface area. "
   ]
  },
  {
   "cell_type": "code",
   "execution_count": 6,
   "id": "b713ff07",
   "metadata": {},
   "outputs": [
    {
     "name": "stdout",
     "output_type": "stream",
     "text": [
      "Optimal Dimensions:\n",
      "Length (L): 1.29\n",
      "Width (W): 1.29\n",
      "Height (H): 1.29\n",
      "\n",
      "Optimal Volume:\n",
      "Volume: 2.15\n",
      "\n",
      "Optimal Surface Area:\n",
      "Surface Area: 10.00\n"
     ]
    }
   ],
   "source": [
    "import numpy as np\n",
    "from scipy.optimize import minimize\n",
    "\n",
    "# Objective function to maximize the volume\n",
    "def objective_function(dimensions):\n",
    "    L, W, H = dimensions\n",
    "    return -(L * W * H)  # Here need to negate the volume to convert maximization to minimization\n",
    "\n",
    "# Constraint the  function to limit the surface area to 10\n",
    "def surface_area_constraint(dimensions):\n",
    "    L, W, H = dimensions\n",
    "    return 10 - 2 * (L * W + L * H + W * H)\n",
    "\n",
    "# The initial guess for dimensions (L, W, H)\n",
    "initial_guess = [1.0, 1.0, 1.0]\n",
    "\n",
    "# Bounds for each dimension (L, W, H)\n",
    "bounds = ((0, None), (0, None), (0, None))\n",
    "\n",
    "# Constraint definition\n",
    "constraint = {'type': 'ineq', 'fun': surface_area_constraint}\n",
    "\n",
    "# Optimization process\n",
    "result = minimize(objective_function, initial_guess, method='SLSQP', bounds=bounds, constraints=constraint)\n",
    "\n",
    "# Extracting optimal values\n",
    "optimal_dimensions = result.x\n",
    "optimal_volume = -result.fun  # We had negated the volume, so we convert it back to positive\n",
    "\n",
    "# To calculate the surface area using the optimal dimensions\n",
    "L, W, H = optimal_dimensions\n",
    "optimal_surface_area = 2 * (L * W + L * H + W * H)\n",
    "\n",
    "# Print the optimal results\n",
    "print(\"Optimal Dimensions:\")\n",
    "print(f\"Length (L): {L:.2f}\")\n",
    "print(f\"Width (W): {W:.2f}\")\n",
    "print(f\"Height (H): {H:.2f}\")\n",
    "\n",
    "print(\"\\nOptimal Volume:\")\n",
    "print(f\"Volume: {optimal_volume:.2f}\")\n",
    "\n",
    "print(\"\\nOptimal Surface Area:\")\n",
    "print(f\"Surface Area: {optimal_surface_area:.2f}\")\n"
   ]
  },
  {
   "cell_type": "code",
   "execution_count": null,
   "id": "9bbf1f77",
   "metadata": {},
   "outputs": [],
   "source": []
  }
 ],
 "metadata": {
  "kernelspec": {
   "display_name": "Python 3 (ipykernel)",
   "language": "python",
   "name": "python3"
  },
  "language_info": {
   "codemirror_mode": {
    "name": "ipython",
    "version": 3
   },
   "file_extension": ".py",
   "mimetype": "text/x-python",
   "name": "python",
   "nbconvert_exporter": "python",
   "pygments_lexer": "ipython3",
   "version": "3.10.9"
  }
 },
 "nbformat": 4,
 "nbformat_minor": 5
}
